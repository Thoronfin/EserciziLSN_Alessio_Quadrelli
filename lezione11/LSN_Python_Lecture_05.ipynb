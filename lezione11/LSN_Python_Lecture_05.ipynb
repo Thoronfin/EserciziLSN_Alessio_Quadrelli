{
 "cells": [
  {
   "cell_type": "markdown",
   "metadata": {},
   "source": [
    "# <span style=\"color:green\"> Numerical Simulation Laboratory </span>\n",
    "## <span style=\"color:brown\"> Python LECTURE 5 </span>\n",
    "## <span style=\"color:orange\"> Introduction to KERAS </span>"
   ]
  },
  {
   "cell_type": "markdown",
   "metadata": {},
   "source": [
    "<img src=\"Pictures/keras.png\" width=\"400\">"
   ]
  },
  {
   "cell_type": "markdown",
   "metadata": {},
   "source": [
    "There are countless deep learning frameworks available today. Why use Keras rather than any other?\n",
    "\n",
    "<a href=\"https://keras.io\">Keras</a> is a high-level neural networks Application Programming Interface (API), written in Python, developed with a focus on enabling **fast experimentation**. Keras offers a consistent and simple API, which minimizes the number of user actions required for common use cases, and provides clear and actionable feedback upon user error.\n",
    "\n",
    "Keras is capable of running on top of many deep learning backends such as **TensorFlow** (from Google), CNTK (from Microsoft), or Theano. This capability allows Keras model to be portable across all there backends.\n",
    "<img src=\"Pictures/keras_tf.jpg\" width=\"30%\">\n",
    "\n",
    "Keras is one of the most used Deep Learning Framework used by researchers, and is now part of the <a href=\"https://www.tensorflow.org/guide/keras\">official TensorFlow Higher Level API</a> as <font color='red'>tf.keras</font>\n",
    "<img src=\"Pictures/DL_framework_usage.png\" width=\"50%\">\n",
    "\n",
    "Keras models can be trained on CPUs, Xeon Phi and any GPU device."
   ]
  },
  {
   "cell_type": "markdown",
   "metadata": {},
   "source": [
    "## Building a Model with Keras\n",
    "\n",
    "The core data structure of Keras is the <a href=\"https://keras.io/models/about-keras-models/\">Model</a> which is basically a container of one or more <a href=\"https://keras.io/layers/core/\">Layers</a>.\n",
    "\n",
    "There are two main types of models available in Keras: the Sequential model and the Model class, the latter used to create advanced models.\n",
    "\n",
    "The simplest type of model is the Sequential model, which is a linear stack of layers. Each layer is added to the model using the <font color='red'>.add()</font> method of the Sequential model object.\n",
    "\n",
    "The model needs to know what input shape it should expect. The first layer in a Sequential model (and only the first) needs to receive information about its input shape, specifing the <font color='red'>input_shape</font> argument.  The following layers can do automatic shape inference from the shape of their own predecessor layers."
   ]
  },
  {
   "cell_type": "code",
   "execution_count": 14,
   "metadata": {},
   "outputs": [],
   "source": [
    "import tensorflow as tf\n",
    "from tensorflow import keras\n",
    "\n",
    "from keras.models import Sequential\n",
    "from keras.layers import Dense, Activation"
   ]
  },
  {
   "cell_type": "markdown",
   "metadata": {},
   "source": [
    "Keras provides many types of <a href=\"https://keras.io/layers/about-keras-layers/\"><b>layers</b></a> and <a href=\"https://keras.io/activations/\"><b>activation functions</b></a> implementations."
   ]
  },
  {
   "cell_type": "markdown",
   "metadata": {},
   "source": [
    "## Types and most common layers\n",
    "\n",
    "### Dense\n",
    "\n",
    "Just adds a regular densely-connected NN layer.\n",
    "<img src=\"Pictures/dense_layers.png\" width=\"400\">\n",
    "\n",
    "<p style=\"border:2px; border-style:solid; border-color:#F5F5F5; padding: 1em; background-color:#F5F5F5\">\n",
    "<font color='grey'>#as first layer in a sequential model:</font><br />\n",
    "<font face=\"Courier\">model = Sequential()</font><br />\n",
    "<font face=\"Courier\">model.add(Dense(32, input_shape=(16,)))</font><br />\n",
    "<font color='grey'>#It means 16 input parameters, with 32 neurons in the first hidden layer</font><br /><br />\n",
    "<font color='grey'>#after the first layer, you don't need to specify the size of the input anymore:</font><br />\n",
    "<font face=\"Courier\">model.add(Dense(32))</font>\n",
    "</p>"
   ]
  },
  {
   "cell_type": "markdown",
   "metadata": {},
   "source": [
    "### Dropout\n",
    "\n",
    "Applies Dropout to the input. Dropout consists in randomly setting a fraction of input units to 0 at each update during training time. Dropout is a technique used to prevent overfitting on neural networks\n",
    "<img src=\"Pictures/dropout.png\" width=\"600\">\n",
    "\n",
    "Dropout improves generalization because it forces your layer to learn with different neurons the same \"concept\". During the prediction phase the dropout is deactivated."
   ]
  },
  {
   "cell_type": "markdown",
   "metadata": {},
   "source": [
    "### Convolutional layers\n",
    "\n",
    "A Convolutional Neural Network is composed of layers that filter(convolve) the inputs to get useful information.\n",
    "<img src=\"Pictures/conv2d.gif\" width=\"400\">\n",
    "These convolutional layers have parameters(kernel) that are learned so that these filters are adjusted automatically to extract the most useful information for the task at hand.\n",
    "<img src=\"Pictures/conv_example.gif\" width=\"400\">\n",
    "\n",
    "These layers creates a convolution kernel that is convolved with the layer inputs; some examples are:\n",
    "\n",
    "- **Conv1D**: 1D convolutional layer (typically, temporal convolution)\n",
    "- **Conv2D**: 2D convolutional layer (typically, spatial convolution over images)\n",
    "- **Conv3D**: 3D convolutional layer (e.g. spatial convolution over volumes)"
   ]
  },
  {
   "cell_type": "markdown",
   "metadata": {},
   "source": [
    "### Pooling  layers\n",
    "\n",
    "A pooling layer is used to reduce the spatial dimensions on a convolutional neural network, basically this is what you gain:\n",
    "\n",
    "- By having less spatial information you gain computation performance\n",
    "- Less spatial information also means less parameters, so less chance to over-fit\n",
    "<img src=\"Pictures/pooling.jpg\" width=\"400\">\n",
    "\n",
    "Some examples are:\n",
    "\n",
    "- **MaxPooling1D/AveragePooling1D**: Max/Average pooling operation for 1D (e.g. temporal) data\n",
    "- **MaxPooling2D/AveragePooling2D**: Max/Average pooling operation for 2D (e.g. images) data\n",
    "- **MaxPooling3D/AveragePooling3D**: Max/Average pooling operation for 3D data"
   ]
  },
  {
   "cell_type": "markdown",
   "metadata": {},
   "source": [
    "### Normalization  layers: BatchNormalization\n",
    "\n",
    "Batch normalization layer. Normalize the activations of the previous layer at each batch, i.e. applies a transformation that maintains the mean activation close to 0 and the activation standard deviation close to 1.\n",
    "<img src=\"Pictures/batchN.png\" width=\"400\">\n",
    "\n",
    "We can have, in fact, the following problem: As a network trains, weights in early layers change and as a result, the inputs of later layers vary wildly. Each layer must readjust its weights to the varying distribution of every batch of inputs. This slows model training. If we could make layer inputs more similar in distribution, the network could focus on learning the difference between classes. Another effect of varied batch distribution is vanishing gradients. The vanishing gradient problem is a big deal, particularly for the sigmoid activation function.\n",
    "<img src=\"Pictures/vanishingG.png\" width=\"600\">\n",
    "\n",
    "Batch normalization mitigates the effects of a varied layer inputs. By normalizing the output of neurons, the activation function will only receive inputs close to zero. This ensures a non-vanishing gradient.\n",
    "<img src=\"Pictures/bnorm.png\" width=\"800\">"
   ]
  },
  {
   "cell_type": "markdown",
   "metadata": {},
   "source": [
    "### Regularization/Noise layers\n",
    "\n",
    "Some examples:\n",
    "\n",
    "- **GaussianNoise**: Apply additive zero-centered Gaussian noise. This is useful to mitigate overfitting (you could see it as a form of random data augmentation). Gaussian Noise (GS) is a natural choice as corruption process for real valued inputs. As it is a regularization layer, it is only active at training time.\n",
    "- **GaussianDropout**: Apply multiplicative 1-centered Gaussian noise\n",
    "- **AlphaDropout**: it is a Dropout that keeps mean and variance of inputs to their original values, in order to ensure the self-normalizing property even after this dropout."
   ]
  },
  {
   "cell_type": "markdown",
   "metadata": {},
   "source": [
    "#### Let's add  some steps in our example ..."
   ]
  },
  {
   "cell_type": "code",
   "execution_count": 15,
   "metadata": {},
   "outputs": [],
   "source": [
    "from keras import backend, activations\n",
    "import numpy as np\n",
    "import matplotlib.pyplot as plt\n",
    "x = np.arange(-3, 3, 0.1)"
   ]
  },
  {
   "cell_type": "markdown",
   "metadata": {},
   "source": [
    "... and let's go on with some more description of Keras ..."
   ]
  },
  {
   "cell_type": "markdown",
   "metadata": {},
   "source": [
    "## Activation functions\n",
    "\n",
    "The <font color='red'>activation</font> argument specifies the activation function for the current layer. By default, no activation is applied. Activation functions are used to modify the output response of the standard *dot( input, weights )* operation performed by each node of a neural network layer. \n",
    "\n",
    "You can think the output of a node as:<br>\n",
    "**output = activation( dot( input, weight ) + bias )**\n",
    "\n",
    "Keras provide several predefined activation functions which can be used to enhance, dump, model the intensity of the basic response of the layer."
   ]
  },
  {
   "cell_type": "markdown",
   "metadata": {},
   "source": [
    "### Activation functions with open bounds\n",
    "\n",
    "These activation functions share the property of having no bounds over the range values of output. \n",
    "These functions are very versatile (most used activation is **relu**), yet a different response is provided on positive and negative input values."
   ]
  },
  {
   "cell_type": "markdown",
   "metadata": {},
   "source": [
    "- The simplest activation function is the linear response $f(x) = x$, which in practice does not alter the response of the default **dot(input, weight)** kernel operation of a single node of a layer.\n",
    "- Another simple open bounds activation functions is the exponential function, which enhances response of high input values over lower ones.\n",
    "\n",
    "Other open bounds activation functions are **elu, selu, relu, softplus** which are later described.\n",
    "\n",
    "### softplus\n",
    "\n",
    "'softplus' implements the following activation function: $f(x) = \\ln( 1 + \\exp(x) )$"
   ]
  },
  {
   "cell_type": "code",
   "execution_count": 16,
   "metadata": {},
   "outputs": [
    {
     "data": {
      "image/png": "[encoded data removed]",
      "text/plain": [
       "<matplotlib.figure.Figure at 0x2531c69e518>"
      ]
     },
     "metadata": {},
     "output_type": "display_data"
    }
   ],
   "source": [
    "plt.plot(x, backend.get_value(activations.softplus(x)))\n",
    "plt.grid(True)\n",
    "plt.show()"
   ]
  },
  {
   "cell_type": "markdown",
   "metadata": {},
   "source": [
    "### elu\n",
    "\n",
    "'elu' stands for exponential linear unit. The exponential linear activation\n",
    "\n",
    "$f(x)=x$ if $x > 0$ and $f(x)=\\alpha(\\exp(x)-1)$ if $x < 0$ (default: $\\alpha=1.0$)"
   ]
  },
  {
   "cell_type": "code",
   "execution_count": 17,
   "metadata": {},
   "outputs": [
    {
     "data": {
      "image/png": "[encoded data removed]",
      "text/plain": [
       "<matplotlib.figure.Figure at 0x25323f60160>"
      ]
     },
     "metadata": {},
     "output_type": "display_data"
    }
   ],
   "source": [
    "plt.plot(x, backend.get_value(activations.elu(x, alpha=1.0))) # default\n",
    "plt.plot(x, backend.get_value(activations.elu(x, alpha=0.5))) \n",
    "plt.plot(x, backend.get_value(activations.elu(x, alpha=2.0)))\n",
    "plt.grid(True); plt.show()"
   ]
  },
  {
   "cell_type": "markdown",
   "metadata": {},
   "source": [
    "### selu\n",
    "\n",
    "'selu'  stands for scaled Exponential Linear Unit\n",
    "\n",
    "$f(x)= \\gamma f_{elu}(x, \\alpha)$\n",
    "\n",
    "where $\\alpha$ and $\\gamma$ are chosen so that the mean and variance of the inputs are preserved between two consecutive layers (as long as the weights are initialized correctly)."
   ]
  },
  {
   "cell_type": "code",
   "execution_count": 18,
   "metadata": {},
   "outputs": [
    {
     "data": {
      "image/png": "[encoded data removed]",
      "text/plain": [
       "<matplotlib.figure.Figure at 0x2531d4689b0>"
      ]
     },
     "metadata": {},
     "output_type": "display_data"
    }
   ],
   "source": [
    "plt.plot(x, backend.get_value(activations.selu(x)))\n",
    "plt.grid(True); plt.show()"
   ]
  },
  {
   "cell_type": "markdown",
   "metadata": {},
   "source": [
    "### relu\n",
    "\n",
    "'relu' stands for rectified ELU. In its default form it is very similar to a linear response function $f(x) = max(0,x)$, which cutoff negative values and enhance stong input over lighter ones.\n",
    "It is probably one of the **most used activation function in input or hidden layers of a neural network**.\n",
    "\n",
    "RELU can be also customized with some parameters:\n",
    "- max_value which sets a plateau over output maximum response value\n",
    "- $\\alpha$ which model response over **negative** input values\n",
    "\n",
    "RELU form: <br />\n",
    "f(x) = max_value , for x >= max_value, <br />\n",
    "f(x) = x , for threshold <= x < max_value, <br />\n",
    "f(x) = alpha * (x - threshold) otherwise."
   ]
  },
  {
   "cell_type": "code",
   "execution_count": 19,
   "metadata": {},
   "outputs": [
    {
     "data": {
      "image/png": "[encoded data removed]",
      "text/plain": [
       "<matplotlib.figure.Figure at 0x25323cbdc18>"
      ]
     },
     "metadata": {},
     "output_type": "display_data"
    }
   ],
   "source": [
    "plt.plot(x, backend.get_value(activations.relu(x, alpha=0.0, max_value=None) )) # default\n",
    "plt.grid(True)\n",
    "plt.show()"
   ]
  },
  {
   "cell_type": "code",
   "execution_count": 20,
   "metadata": {},
   "outputs": [
    {
     "data": {
      "image/png": "[encoded data removed]",
      "text/plain": [
       "<matplotlib.figure.Figure at 0x25323c9d550>"
      ]
     },
     "metadata": {},
     "output_type": "display_data"
    }
   ],
   "source": [
    "plt.plot(x, backend.get_value(activations.relu(x, alpha=0.5, max_value=None) ))\n",
    "plt.grid(True)\n",
    "plt.show()"
   ]
  },
  {
   "cell_type": "code",
   "execution_count": 21,
   "metadata": {},
   "outputs": [
    {
     "data": {
      "image/png": "[encoded data removed]",
      "text/plain": [
       "<matplotlib.figure.Figure at 0x253240b5940>"
      ]
     },
     "metadata": {},
     "output_type": "display_data"
    }
   ],
   "source": [
    "plt.plot(x, backend.get_value(activations.relu(x, alpha=0, max_value=2) ))\n",
    "plt.grid()\n",
    "plt.show()"
   ]
  },
  {
   "cell_type": "markdown",
   "metadata": {},
   "source": [
    "### Activation functions with plateau\n",
    "\n",
    "The following activation functions share the property of having a max plateu value for positive/negative values. These plateau functions are best used for \"normalized\" input and/or to put some \"normalization\" over output values."
   ]
  },
  {
   "cell_type": "markdown",
   "metadata": {},
   "source": [
    "### sigmoid\n",
    "\n",
    "The sigmoid activation is: $f(x) = 1/(1+\\exp(-x))$"
   ]
  },
  {
   "cell_type": "code",
   "execution_count": 22,
   "metadata": {},
   "outputs": [
    {
     "data": {
      "image/png": "[encoded data removed]",
      "text/plain": [
       "<matplotlib.figure.Figure at 0x253233f7a90>"
      ]
     },
     "metadata": {},
     "output_type": "display_data"
    }
   ],
   "source": [
    "plt.plot(x, backend.get_value(activations.sigmoid(x)))\n",
    "plt.grid(True)\n",
    "plt.ylim(0, 1)\n",
    "plt.show()"
   ]
  },
  {
   "cell_type": "markdown",
   "metadata": {},
   "source": [
    "### softsign\n",
    "\n",
    "The softplus activation is: $f(x) = x/(|x| + 1)$"
   ]
  },
  {
   "cell_type": "code",
   "execution_count": 23,
   "metadata": {},
   "outputs": [
    {
     "data": {
      "image/png": "[encoded data removed]",
      "text/plain": [
       "<matplotlib.figure.Figure at 0x25323fe3cf8>"
      ]
     },
     "metadata": {},
     "output_type": "display_data"
    }
   ],
   "source": [
    "plt.plot(x, backend.get_value(activations.softsign(x)))\n",
    "plt.grid(True); plt.ylim(-1, 1); plt.show()"
   ]
  },
  {
   "cell_type": "markdown",
   "metadata": {},
   "source": [
    "### tanh"
   ]
  },
  {
   "cell_type": "code",
   "execution_count": 24,
   "metadata": {},
   "outputs": [
    {
     "data": {
      "image/png": "[encoded data removed]",
      "text/plain": [
       "<matplotlib.figure.Figure at 0x25323a46dd8>"
      ]
     },
     "metadata": {},
     "output_type": "display_data"
    }
   ],
   "source": [
    "plt.plot(x, backend.get_value(activations.tanh(x)))\n",
    "plt.grid(True); plt.show()"
   ]
  },
  {
   "cell_type": "markdown",
   "metadata": {},
   "source": [
    "### softmax\n",
    "\n",
    "In mathematics, the **softmax** function, also known as normalized exponential function, is a function that takes as input a vector of K real numbers, and normalizes it into a probability distribution consisting of K probabilities. That is, prior to applying *softmax*, some vector components could be negative, or greater than one; and might not sum to 1; but after applying *softmax*, each component will be in the interval $(0,1)$ and the components will add up to 1, so that they can be interpreted as probabilities. Furthermore, the larger input components will correspond to larger probabilities:\n",
    "\n",
    "$$\n",
    "\\sigma(\\vec{z})_i = \\frac{e^{z_i}}{\\sum_{j=1}^N e^{z_j}}\n",
    "\\quad i=1,\\dots,N \\quad \\vec{z}=\\{ z_1, \\dots, z_N\\}\n",
    "$$\n",
    "\n",
    "Softmax is often used in neural networks, to map the non-normalized output of a network to a probability distribution over predicted output classes. \n",
    "\n",
    "The <i>softmax</i> activation function is commonly used in the last layer of a model to select a single output from many, for example to select the most probable identified item among a set in a <b>classification problem</b>. "
   ]
  },
  {
   "cell_type": "markdown",
   "metadata": {},
   "source": [
    "## Compile the model\n",
    "\n",
    "After the model is constructed, we have to configure its learning process by calling the <font color='red'>compile</font> method. The compile phase is required to configure the following (required) element of the model:\n",
    "- <a href=\"https://keras.io/optimizers/\"><b>optimizer:</b></a> this object specifies the optimization algorithm which adapts the weights of the layers during the training procedure;\n",
    "- <a href=\"https://keras.io/losses/\"><b>loss:</b></a> this object specifies the function to minimize during the optimization;\n",
    "- <a href=\"https://keras.io/metrics/\"><b>metrics:</b></a> [optional] this objects judges the performance of your model and is used to **monitor** the training"
   ]
  },
  {
   "cell_type": "code",
   "execution_count": 25,
   "metadata": {},
   "outputs": [
    {
     "ename": "NameError",
     "evalue": "name 'model' is not defined",
     "output_type": "error",
     "traceback": [
      "\u001b[1;31m---------------------------------------------------------------------------\u001b[0m",
      "\u001b[1;31mNameError\u001b[0m                                 Traceback (most recent call last)",
      "\u001b[1;32m<ipython-input-25-6eee975b3381>\u001b[0m in \u001b[0;36m<module>\u001b[1;34m()\u001b[0m\n\u001b[0;32m      2\u001b[0m \u001b[1;33m\u001b[0m\u001b[0m\n\u001b[0;32m      3\u001b[0m \u001b[1;31m# Configure the model for mean-squared error regression.\u001b[0m\u001b[1;33m\u001b[0m\u001b[1;33m\u001b[0m\u001b[0m\n\u001b[1;32m----> 4\u001b[1;33m model.compile(optimizer=optimizers.SGD(),             #optimizer='sgd',       # stochastic gradient descent\n\u001b[0m\u001b[0;32m      5\u001b[0m               \u001b[0mloss\u001b[0m\u001b[1;33m=\u001b[0m\u001b[0mlosses\u001b[0m\u001b[1;33m.\u001b[0m\u001b[0mcategorical_crossentropy\u001b[0m\u001b[1;33m,\u001b[0m\u001b[1;33m\u001b[0m\u001b[0m\n\u001b[0;32m      6\u001b[0m               metrics=[metrics.categorical_accuracy]) #metrics=['accuracy'])  # an optional list of metrics\n",
      "\u001b[1;31mNameError\u001b[0m: name 'model' is not defined"
     ]
    }
   ],
   "source": [
    "from keras import optimizers, losses, metrics\n",
    "\n",
    "# Configure the model for mean-squared error regression.\n",
    "model.compile(optimizer=optimizers.SGD(),             #optimizer='sgd',       # stochastic gradient descent\n",
    "              loss=losses.categorical_crossentropy,\n",
    "              metrics=[metrics.categorical_accuracy]) #metrics=['accuracy'])  # an optional list of metrics"
   ]
  },
  {
   "cell_type": "markdown",
   "metadata": {},
   "source": [
    "You can either instantiate an **optimizer** before passing it to model.compile() , as in the following example, or you can call it by its name, as in the example above. In the latter case, the default parameters for the optimizer will be used:"
   ]
  },
  {
   "cell_type": "markdown",
   "metadata": {},
   "source": [
    "<p style=\"border:2px; border-style:solid; border-color:#F5F5F5; padding: 1em; background-color:#F5F5F5\">\n",
    "<font face=\"Courier\">from keras import optimizers</font><br />\n",
    "<font face=\"Courier\">sgd = optimizers.SGD(lr=0.01, decay=1e-6, momentum=0.9, nesterov=True)</font><br />\n",
    "<font face=\"Courier\">model.compile(loss='mean_squared_error', optimizer=sgd)</font>\n",
    "</p>"
   ]
  },
  {
   "cell_type": "markdown",
   "metadata": {},
   "source": [
    "### Optimizers\n",
    "\n",
    "#### Stochastic gradient descent optimizer: SGD\n",
    "\n",
    "<p style=\"border:2px; border-style:solid; border-color:#F5F5F5; padding: 1em; background-color:#F5F5F5\">\n",
    "<font face=\"Courier\">keras.optimizers.SGD(lr=0.01, momentum=0.0, decay=0.0, nesterov=False)</font>\n",
    "</p>\n",
    "\n",
    "Arguments:\n",
    "- lr : float >= 0. Learning rate.\n",
    "- momentum : float >= 0. Parameter that accelerates SGD in the relevant direction and dampens oscillations.\n",
    "- decay : float >= 0. Learning rate decay over each update.\n",
    "- nesterov : boolean. Whether to apply Nesterov momentum.\n",
    "\n",
    "#### Adagrad\n",
    "\n",
    "Adagrad is an optimizer with parameter-specific learning rates, which are **adapted** relative to how frequently a parameter gets updated during training. The more updates a parameter receives, the smaller the learning rate.\n",
    "\n",
    "<p style=\"border:2px; border-style:solid; border-color:#F5F5F5; padding: 1em; background-color:#F5F5F5\">\n",
    "<font face=\"Courier\">keras.optimizers.Adagrad(lr=0.01, epsilon=None, decay=0.0)</font>\n",
    "</p>\n",
    "\n",
    "Arguments:\n",
    "- lr : float >= 0. Initial learning rate.\n",
    "- epsilon : float >= 0. If None, defaults to K.epsilon().\n",
    "- decay : float >= 0. Learning rate decay over each update.\n",
    "\n",
    "#### Adadelta\n",
    "\n",
    "Adadelta is a more robust extension of Adagrad that adapts learning rates based on a moving window of gradient updates, instead of accumulating all past gradients. This way, Adadelta continues learning even when many updates have been done. It is recommended to leave the parameters of this optimizer at their default values.\n",
    "\n",
    "<p style=\"border:2px; border-style:solid; border-color:#F5F5F5; padding: 1em; background-color:#F5F5F5\">\n",
    "<font face=\"Courier\">keras.optimizers.Adadelta(lr=1.0, rho=0.95, epsilon=None, decay=0.0)</font>\n",
    "</p>\n",
    "\n",
    "Arguments:\n",
    "- lr : float >= 0. Initial learning rate, defaults to 1. It is recommended to leave it at the default value.\n",
    "- rho : float >= 0. Adadelta decay factor, corresponding to fraction of gradient to keep at each time step.\n",
    "- epsilon : float >= 0. Fuzz factor. If None, defaults to K.epsilon().\n",
    "- decay : float >= 0. Initial learning rate decay.\n",
    "\n",
    "Others optimizers: **Adam, Adamax, Nadam** "
   ]
  },
  {
   "cell_type": "markdown",
   "metadata": {},
   "source": [
    "### Losses\n",
    "\n",
    "The Loss/Cost functions are mathematical functions that will answer how well your classifier is doing its job with the current set of parameters (weights and bias). One important step on supervised learning is the choice of the right loss function for the job/task.\n",
    "\n",
    "**<b><font color='green'>Some available loss functions</font></b>** (lab=label):\n",
    "\n",
    "#### mean_squared_error $= \\frac{1}{N} \\sum_{i=1}^N \\left| y_i^{out}-y_i^{lab}\\right|^2$\n",
    "If using *sigmoid* as the activation function, the MSE loss function would suffer the problem of slow convergence (learning speed), for other activation funtions, it would not have such problem.\n",
    "\n",
    "#### mean_absolute_error $= \\frac{1}{N} \\sum_{i=1}^N \\left| y_i^{out}-y_i^{lab}\\right|$\n",
    "Because of the square, large errors have relatively greater influence on MSE than do the smaller error. Therefore, MAE is more robust to outliers since it does not make use of square. On the other hand, MSE is more useful if concerning about large errors whose consequences are much bigger than equivalent smaller ones.\n",
    "\n",
    "#### mean_squared_logarithmic_error $=\\frac{1}{N}\\sum_{i=1}^N \\left|\\log\\frac{y_i^{out}+1}{y_i^{lab}+1}\\right|^2$\n",
    "With MSLE, by taking the log of the predictions and actual values, what changes is the variance that you are measuring. It is usually used when you do not want to penalize huge differences in the predicted and the actual values when both predicted and true values are huge numbers. Another thing is that MSLE penalizes under-estimates more than over-estimates.\n",
    "\n",
    "#### logcosh\n",
    "Logarithm of the hyperbolic cosine of the prediction error. <code>log(cosh(x))</code> is approximately equal to $x^2/2$ for small $x$ and to $|x|-\\log(2)$ for large $x$. This means that 'logcosh' works mostly like the mean squared error, but will not be so strongly affected by the occasional wildly incorrect prediction.\n",
    "\n",
    "#### categorical_crossentropy $=\\frac{1}{N}\\sum_{i=1}^{N}\\big(y_i^{out}\\cdot\\log(y_i^{lab})\\big)$\n",
    "when using the categorical_crossentropy loss, your targets should be in categorical format (e.g. if you have 10 classes, the target for each sample should be a 10-dimensional vector that is all-zeros except for a 1 at the index corresponding to the class of the sample). In order to convert integer targets into categorical targets, you can use the Keras utility <code>to_categorical</code>\n",
    "\n",
    "#### kullback_leibler_divergence $=\\underbrace{{\\frac{1}{N}\\sum_{i=1}^{N}\\big(y_i^{out}}\\cdot\\log(y_i^{out})\\big)}_{\\boldsymbol{entropy}}\\underbrace{-\\frac{1}{N}\\sum_{i=1}^{N}\\big(y_i^{out}\\cdot\\log(y_i^{lab})\\big)}_{\\boldsymbol{cross-entropy}}$\n",
    "KL Divergence, also known as relative entropy, information divergence/gain, is a measure of how one probability distribution diverges from a second expected probability distribution.\n",
    "The first term is entropy and the other is the cross entropy. KL divergence is a distribution-wise asymmetric measure and thus does not qualify as a statistical metric of spread. In the simple case, a KL divergence of 0 indicates that we can expect similar, if not the same, behavior of two different distributions, while a KL divergence of 1 indicates that the two distributions behave in such a different manner that the expectation given the first distribution approaches zero."
   ]
  },
  {
   "cell_type": "markdown",
   "metadata": {},
   "source": [
    "### Metrics\n",
    "\n",
    "A metric is a function that is used to judge the performance of your model. Metric functions are to be supplied in the metrics parameter when a model is compiled. \n",
    "\n",
    "A metric function is similar to a loss function, except that the results from evaluating a metric are not used when training the model. **You may use any of the loss functions as a metric function**.\n",
    "\n",
    "Metric values are recorded at the end of each epoch on the training dataset. If a validation dataset is also provided, then the metric recorded is also calculated for the validation dataset.\n",
    "\n",
    "In addition to loss functions some of other *metrics* that you can use in Keras on **classification problems** are:\n",
    "\n",
    "#### binary_accuracy\n",
    "Everything above 0.5 will be considered as correct.\n",
    "\n",
    "#### categorical_accuracy\n",
    "Checks to see if the index of the maximal true value is equal to the index of the maximal predicted value, i.e., takes the highest value to be the prediction and matches against the comparative set.\n",
    "\n",
    "Regardless of whether your problem is a binary or multi-class classification problem, you can specify the ‘acc‘ metric to report on accuracy."
   ]
  },
  {
   "cell_type": "markdown",
   "metadata": {},
   "source": [
    "## Model Training Process\n",
    "\n",
    "Once the model is compiled, we can check its status using the <b><font color='red'>summary</font></b> and get precious information on model composition, layer connections and number of parameters."
   ]
  },
  {
   "cell_type": "code",
   "execution_count": null,
   "metadata": {},
   "outputs": [],
   "source": [
    "model.summary()"
   ]
  },
  {
   "cell_type": "markdown",
   "metadata": {},
   "source": [
    "Now it's time to learn how to train the model against a set of training data and monitor the optimization process and convergence using reported loss and accuracy measure."
   ]
  },
  {
   "cell_type": "code",
   "execution_count": null,
   "metadata": {},
   "outputs": [],
   "source": [
    "import numpy as np\n",
    "import matplotlib\n",
    "import matplotlib.pyplot as plt\n",
    "\n",
    "n_train = 5000\n",
    "n_valid = 500\n",
    "# generate synthetic training dataset\n",
    "x_train = np.zeros((n_train, 2))\n",
    "y_train = np.zeros((n_train, 9))\n",
    "# generate synthetic validation data\n",
    "x_valid = np.zeros((n_valid, 2))\n",
    "y_valid = np.zeros((n_valid, 9))\n",
    "\n",
    "sigma = 0.2\n",
    "\n",
    "for i in range(n_train):\n",
    "    j = np.random.randint(0,9)\n",
    "    y_train[i,j]=1\n",
    "    if j == 0:\n",
    "        mux, muy = 1, 1\n",
    "    elif j == 1:\n",
    "        mux, muy = 2, 1\n",
    "    elif j == 2:\n",
    "        mux, muy = 3, 1\n",
    "    elif j == 3:\n",
    "        mux, muy = 1, 2\n",
    "    elif j == 4:\n",
    "        mux, muy = 2, 2\n",
    "    elif j == 5:\n",
    "        mux, muy = 3, 2\n",
    "    elif j == 6:\n",
    "        mux, muy = 1, 3\n",
    "    elif j == 7:\n",
    "        mux, muy = 2, 3\n",
    "    else:\n",
    "        mux, muy = 3, 3\n",
    "    x_train[i,0] = np.random.normal(mux, sigma)\n",
    "    x_train[i,1] = np.random.normal(muy, sigma)\n",
    "\n",
    "for i in range(n_valid):\n",
    "    j = np.random.randint(0,9)\n",
    "    y_valid[i,j]=1\n",
    "    if j == 0:\n",
    "        mux, muy = 1, 1\n",
    "    elif j == 1:\n",
    "        mux, muy = 2, 1\n",
    "    elif j == 2:\n",
    "        mux, muy = 3, 1\n",
    "    elif j == 3:\n",
    "        mux, muy = 1, 2\n",
    "    elif j == 4:\n",
    "        mux, muy = 2, 2\n",
    "    elif j == 5:\n",
    "        mux, muy = 3, 2\n",
    "    elif j == 6:\n",
    "        mux, muy = 1, 3\n",
    "    elif j == 7:\n",
    "        mux, muy = 2, 3\n",
    "    else:\n",
    "        mux, muy = 3, 3\n",
    "    x_valid[i,0] = np.random.normal(mux, sigma)\n",
    "    x_valid[i,1] = np.random.normal(muy, sigma)\n",
    "\n",
    "plt.plot(x_train[:,0],x_train[:,1],'o')\n",
    "plt.xlabel('x')\n",
    "plt.ylabel('y')\n",
    "plt.show()"
   ]
  },
  {
   "cell_type": "markdown",
   "metadata": {},
   "source": [
    "## Model Fit"
   ]
  },
  {
   "cell_type": "markdown",
   "metadata": {},
   "source": [
    "The <code><font color='red'>.fit</font></code> method takes three important arguments:\n",
    "- <code>x, y:</code> training input independent and dependent datasets\n",
    "- <code>batch_size:</code> the model slices the data into smaller batches and iterates over these batches during training. This integer specifies the size of each batch.\n",
    "- <code>epochs:</code> an epoch is one iteration over the entire input data (done in smaller batches).\n",
    "- <code>validation_data:</code> [optional] validation data against which  compute the loss and metrics in inference mode at the end of each epoch."
   ]
  },
  {
   "cell_type": "code",
   "execution_count": null,
   "metadata": {},
   "outputs": [],
   "source": [
    "bsize = 32\n",
    "# fit the model using training dataset\n",
    "# over 50 epochs of 32 batch size each\n",
    "# report training progress against validation data\n",
    "history = model.fit(x=x_train, y=y_train, \n",
    "          batch_size=bsize, epochs=50, \n",
    "          validation_data=(x_valid, y_valid))"
   ]
  },
  {
   "cell_type": "markdown",
   "metadata": {},
   "source": [
    "A trained model contains fitted weights for each layer. We can inspect weights from each layers using the <font color='red'>get_weights</font> method, which returns an array of two arrays: the first are the weights belonging to input of the layer, the second are the weights associated to layer's bias."
   ]
  },
  {
   "cell_type": "code",
   "execution_count": null,
   "metadata": {},
   "outputs": [],
   "source": [
    "for l in model.layers:\n",
    "    w = l.get_weights()\n",
    "    print(\"layer nodes weights: \", w[0].shape)\n",
    "    print(\"layer bias weights: \", w[1].shape)"
   ]
  },
  {
   "cell_type": "markdown",
   "metadata": {},
   "source": [
    "## Model Evaluation and Prediction\n",
    "Once the training process has completed, you can <code><font color='red'>evaluate</font></code> the model over different test dataset. The evaluate method returns the loss value and, if the model was compiled providing also a <em>metrics</em> argument, the metric values for the model in test mode."
   ]
  },
  {
   "cell_type": "code",
   "execution_count": null,
   "metadata": {},
   "outputs": [],
   "source": [
    "#model.evaluate(x_valid, y_valid, batch_size=32)\n",
    "# evaluate model\n",
    "score = model.evaluate(x_valid, y_valid, batch_size=32, verbose=1)\n",
    "\n",
    "# print performance\n",
    "print()\n",
    "print('Test loss:', score[0])\n",
    "print('Test accuracy:', score[1])\n",
    "\n",
    "# look into training history\n",
    "\n",
    "# summarize history for accuracy\n",
    "plt.plot(history.history['categorical_accuracy'])      #plt.plot(history.history['acc']) #for generic 'accuracy'\n",
    "plt.plot(history.history['val_categorical_accuracy'])  #plt.plot(history.history['val_acc'])\n",
    "plt.ylabel('model accuracy')\n",
    "plt.xlabel('epoch')\n",
    "plt.legend(['train', 'test/validation'], loc='best')\n",
    "plt.show()\n",
    "\n",
    "# summarize history for loss\n",
    "plt.plot(history.history['loss'])\n",
    "plt.plot(history.history['val_loss'])\n",
    "plt.ylabel('model loss')\n",
    "plt.xlabel('epoch')\n",
    "plt.legend(['train', 'test/validation'], loc='best')\n",
    "plt.show()"
   ]
  },
  {
   "cell_type": "markdown",
   "metadata": {},
   "source": [
    "The <code><font color='red'>predict</font></code> method generates output prediction from an input dataset provided to the model.\n",
    "\n",
    "When running a prediction, the samples in a batch are processed independently, in parallel, so the larger is the batch, the sooner the prediction task will complete."
   ]
  },
  {
   "cell_type": "code",
   "execution_count": null,
   "metadata": {},
   "outputs": [],
   "source": [
    "print(\"Input dataset shape: \", x_valid.shape)\n",
    "# this model maps a 2 dims problem into an 9 dims\n",
    "y_predicted = model.predict(x_valid, batch_size=128)\n",
    "print(\"Predicted results shape: \", y_predicted.shape)\n",
    "print(y_valid[4])\n",
    "print(y_predicted[4])"
   ]
  },
  {
   "cell_type": "markdown",
   "metadata": {},
   "source": [
    "## Save and Restore a Model\n",
    "A trained model can be saved and stored to a file for later retreival. This allows you to checkpoint a model and resume training later without rebuilding and training from scratch.\n",
    "\n",
    "Files are saved in HDF5 format, within all weight values, model's configuration and even the optimizer's configuration."
   ]
  },
  {
   "cell_type": "code",
   "execution_count": null,
   "metadata": {},
   "outputs": [],
   "source": [
    "save_model_path='Saved/intro_model'\n",
    "model.save(filepath=save_model_path, include_optimizer=True)"
   ]
  },
  {
   "cell_type": "code",
   "execution_count": null,
   "metadata": {},
   "outputs": [],
   "source": [
    "model_old = tf.keras.models.load_model(filepath=save_model_path)"
   ]
  },
  {
   "cell_type": "code",
   "execution_count": null,
   "metadata": {},
   "outputs": [],
   "source": [
    "xp=np.zeros((1,2))\n",
    "xp[0,0]=3.2\n",
    "xp[0,1]=2.9\n",
    "y_predicted = model_old.predict(xp)\n",
    "print(y_predicted[0])"
   ]
  }
 ],
 "metadata": {
  "kernelspec": {
   "display_name": "Python 3",
   "language": "python",
   "name": "python3"
  },
  "language_info": {
   "codemirror_mode": {
    "name": "ipython",
    "version": 3
   },
   "file_extension": ".py",
   "mimetype": "text/x-python",
   "name": "python",
   "nbconvert_exporter": "python",
   "pygments_lexer": "ipython3",
   "version": "3.6.4"
  }
 },
 "nbformat": 4,
 "nbformat_minor": 2
}
